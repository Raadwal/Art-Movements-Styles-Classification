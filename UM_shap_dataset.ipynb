{
  "cells": [
    {
      "cell_type": "code",
      "execution_count": null,
      "metadata": {
        "colab": {
          "base_uri": "https://localhost:8080/"
        },
        "id": "qMyDwHIdJ-cS",
        "outputId": "7c8a8583-7fb8-45a9-cca7-65205f0afe43"
      },
      "outputs": [],
      "source": [
        "!pip install deeplake"
      ]
    },
    {
      "cell_type": "code",
      "execution_count": null,
      "metadata": {
        "id": "pJ4Kk1AnKBHz"
      },
      "outputs": [],
      "source": [
        "import deeplake\n",
        "from PIL import Image\n",
        "import numpy as np\n",
        "import os\n",
        "\n",
        "token = \"\""
      ]
    },
    {
      "cell_type": "code",
      "execution_count": null,
      "metadata": {
        "colab": {
          "base_uri": "https://localhost:8080/"
        },
        "id": "YnlOAmeNKIxG",
        "outputId": "229db56f-f6f7-42bf-c0a5-34a09b34a179"
      },
      "outputs": [],
      "source": [
        "ds = deeplake.empty('hub://um_project/art-shap', token=token)"
      ]
    },
    {
      "cell_type": "code",
      "execution_count": null,
      "metadata": {
        "colab": {
          "base_uri": "https://localhost:8080/"
        },
        "id": "KyZwIrPKLsuf",
        "outputId": "aad54e39-6390-497a-b684-db88680dc9f2"
      },
      "outputs": [],
      "source": [
        "test_ds = deeplake.load('hub://um_project/art-test', token=token, read_only=True)"
      ]
    },
    {
      "cell_type": "code",
      "execution_count": null,
      "metadata": {
        "colab": {
          "base_uri": "https://localhost:8080/"
        },
        "id": "-fu_JpPIMNCf",
        "outputId": "269662e5-3d8d-4055-d471-d5675d8df2e7"
      },
      "outputs": [],
      "source": [
        "classes_labels = test_ds.labels.info.class_names\n",
        "len(classes_labels)"
      ]
    },
    {
      "cell_type": "code",
      "execution_count": null,
      "metadata": {
        "id": "YwZuyQWRMRRn"
      },
      "outputs": [],
      "source": [
        "class_images = {label: [] for label in classes_labels}\n",
        "\n",
        "shap_test_subset_indexes = [2010, 2029, 2001, 1960, 2257, 2912, 1179, 2068, 2274, 2208, 2801, 3852, 553]\n",
        "\n",
        "# Iterate through the dataset and store 7 images for each class\n",
        "for i, sample in enumerate(test_ds):\n",
        "    label = sample['labels'].data()['text'][0]  # Access the first element of the list\n",
        "    if i in shap_test_subset_indexes:\n",
        "        image_array = sample['images'].data()['value']\n",
        "        class_images[label].append(image_array)"
      ]
    },
    {
      "cell_type": "code",
      "execution_count": null,
      "metadata": {
        "colab": {
          "base_uri": "https://localhost:8080/",
          "height": 1000
        },
        "id": "YVdCp0d2M43v",
        "outputId": "0d22c39d-7530-4a71-a933-8e6d10c0a893"
      },
      "outputs": [],
      "source": [
        "from matplotlib import pyplot as plt\n",
        "\n",
        "# Create a grid of subplots and display the images\n",
        "num_classes = len(classes_labels)\n",
        "num_images_per_class = 1\n",
        "fig = plt.figure(figsize=(28, 56))\n",
        "\n",
        "for i, class_label in enumerate(classes_labels):\n",
        "    for j, image_array in enumerate(class_images[class_label]):\n",
        "        ax = fig.add_subplot(num_classes, num_images_per_class, i * num_images_per_class + j + 1)\n",
        "        ax.imshow(image_array)\n",
        "        ax.axis('off')\n",
        "\n",
        "        # Set the class name above the first image in each row\n",
        "        if j == int(num_images_per_class / 2):\n",
        "            ax.set_title(class_label, fontsize=32, ha='center', va='center', weight='bold')\n",
        "\n",
        "plt.tight_layout(pad=3.0)\n",
        "plt.show()"
      ]
    },
    {
      "cell_type": "code",
      "execution_count": null,
      "metadata": {
        "colab": {
          "base_uri": "https://localhost:8080/"
        },
        "id": "dVUpx431S0QV",
        "outputId": "c6fdd297-7dca-4539-9c47-f79219fede07"
      },
      "outputs": [],
      "source": [
        "with ds:\n",
        "    # Create tensors\n",
        "    ds.create_tensor('images', htype = 'image', sample_compression = 'jpeg')\n",
        "    ds.create_tensor('labels', htype = 'class_label', class_names = classes_labels)"
      ]
    },
    {
      "cell_type": "code",
      "execution_count": null,
      "metadata": {
        "colab": {
          "base_uri": "https://localhost:8080/"
        },
        "id": "k-F9RmGjS9Hj",
        "outputId": "3615d506-2e06-4bdf-bd3d-13d03d26af16"
      },
      "outputs": [],
      "source": [
        "with ds:\n",
        "    # Iterate through data and append to Deep Lake dataset\n",
        "    for label in class_images:\n",
        "        ds.append({'images': class_images[label][0], 'labels': label})"
      ]
    }
  ],
  "metadata": {
    "colab": {
      "provenance": []
    },
    "kernelspec": {
      "display_name": "Python 3",
      "name": "python3"
    },
    "language_info": {
      "name": "python"
    }
  },
  "nbformat": 4,
  "nbformat_minor": 0
}
